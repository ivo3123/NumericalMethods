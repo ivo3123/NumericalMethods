{
 "cells": [
  {
   "cell_type": "markdown",
   "metadata": {},
   "source": [
    "A table of nodes and values is given:\n",
    "\n",
    "| node | values |\n",
    "| :-: | :-: |\n",
    "| 0.01 | 0.3 |\n",
    "| 3 | 0.025 |\n",
    "| 6 | 0.003 |\n",
    "| 9 | 0.00008 |\n",
    "| 12 | 0.0000032 |\n",
    "\n",
    "Find a generalized polynomial that interpolates the data using an appropriate basis.\n",
    "Illustrate the solution graphically."
   ]
  },
  {
   "cell_type": "code",
   "execution_count": 1,
   "metadata": {},
   "outputs": [],
   "source": [
    "import numpy as np\n",
    "import matplotlib.pyplot as plt"
   ]
  },
  {
   "cell_type": "code",
   "execution_count": 2,
   "metadata": {},
   "outputs": [],
   "source": [
    "nodes = np.array([0.01, 3, 6, 9, 12])\n",
    "values = np.array([0.3, 0.025, 0.003, 0.00008, 0.0000032])\n",
    "\n",
    "n = nodes.size"
   ]
  },
  {
   "cell_type": "code",
   "execution_count": 7,
   "metadata": {},
   "outputs": [],
   "source": [
    "matrix = np.ones([n, n])\n",
    "\n",
    "def basis_poly(params, x, basis):\n",
    "    for row in range(n):\n",
    "        for column in range(n):\n",
    "            matrix[row, column] = basis(column, nodes[row])\n",
    "        \n",
    "    vector_column = np.linalg.solve(matrix, values)\n",
    "\n",
    "    return sum(vector_column[i] * basis(i, x) for i in range(vector_column.size))"
   ]
  },
  {
   "cell_type": "code",
   "execution_count": 4,
   "metadata": {},
   "outputs": [],
   "source": [
    "basis = lambda n, x: 1 / (n + x + 1)"
   ]
  },
  {
   "cell_type": "code",
   "execution_count": 8,
   "metadata": {},
   "outputs": [
    {
     "ename": "NameError",
     "evalue": "name 'vector_column' is not defined",
     "output_type": "error",
     "traceback": [
      "\u001b[0;31m---------------------------------------------------------------------------\u001b[0m",
      "\u001b[0;31mNameError\u001b[0m                                 Traceback (most recent call last)",
      "Cell \u001b[0;32mIn[8], line 4\u001b[0m\n\u001b[1;32m      1\u001b[0m x_axis \u001b[38;5;241m=\u001b[39m np\u001b[38;5;241m.\u001b[39mlinspace(nodes\u001b[38;5;241m.\u001b[39mmin(), nodes\u001b[38;5;241m.\u001b[39mmax(), \u001b[38;5;241m400\u001b[39m)\n\u001b[1;32m      3\u001b[0m plt\u001b[38;5;241m.\u001b[39mscatter(nodes, values)\n\u001b[0;32m----> 4\u001b[0m plt\u001b[38;5;241m.\u001b[39mplot(x_axis, basis_poly(\u001b[43mvector_column\u001b[49m, x_axis, basis))\n\u001b[1;32m      5\u001b[0m plt\u001b[38;5;241m.\u001b[39mshow()\n",
      "\u001b[0;31mNameError\u001b[0m: name 'vector_column' is not defined"
     ]
    },
    {
     "data": {
      "image/png": "[encoded data removed]",
      "text/plain": [
       "<Figure size 640x480 with 1 Axes>"
      ]
     },
     "metadata": {},
     "output_type": "display_data"
    }
   ],
   "source": [
    "x_axis = np.linspace(nodes.min(), nodes.max(), 400)\n",
    "\n",
    "plt.scatter(nodes, values)\n",
    "plt.plot(x_axis, basis_poly(vector_column, x_axis, basis))\n",
    "plt.show()"
   ]
  }
 ],
 "metadata": {
  "kernelspec": {
   "display_name": "Python 3",
   "language": "python",
   "name": "python3"
  },
  "language_info": {
   "codemirror_mode": {
    "name": "ipython",
    "version": 3
   },
   "file_extension": ".py",
   "mimetype": "text/x-python",
   "name": "python",
   "nbconvert_exporter": "python",
   "pygments_lexer": "ipython3",
   "version": "3.10.12"
  }
 },
 "nbformat": 4,
 "nbformat_minor": 2
}
