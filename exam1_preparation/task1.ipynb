{
 "cells": [
  {
   "cell_type": "markdown",
   "metadata": {},
   "source": [
    "Относителната плътност на въздуха $ \\rho $ е измерена на различна височина с висока точност. Реззултатите от измерванията са систематизирани в таблица.\n",
    "\n",
    "| h, km | $ \\rho $ |"
   ]
  },
  {
   "cell_type": "code",
   "execution_count": null,
   "metadata": {},
   "outputs": [],
   "source": []
  }
 ],
 "metadata": {
  "language_info": {
   "name": "python"
  }
 },
 "nbformat": 4,
 "nbformat_minor": 2
}
