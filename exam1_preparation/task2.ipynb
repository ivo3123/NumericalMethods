{
 "cells": [
  {
   "cell_type": "markdown",
   "metadata": {},
   "source": [
    "Като използвате метода на неоределените коефициенти, намерете полином, удовлетворяващ интерполационните условия:\n",
    "\n",
    "$$\n",
    "\\psi(0) = 1,\\space \\psi'(0) = 0,\\space \\psi(1) = 2,\\space \\psi'(1) = 6,\\space \\psi(2) = 21.\n",
    "$$"
   ]
  },
  {
   "cell_type": "markdown",
   "metadata": {},
   "source": [
    "Let's first solve it using Python and symbols."
   ]
  },
  {
   "cell_type": "code",
   "execution_count": 1,
   "metadata": {},
   "outputs": [],
   "source": [
    "import numpy as np\n",
    "import sympy as sp"
   ]
  },
  {
   "cell_type": "code",
   "execution_count": 2,
   "metadata": {},
   "outputs": [],
   "source": [
    "import sys\n",
    "sys.path.append('../util')\n",
    "\n",
    "from hermite_poly import  hermite_poly"
   ]
  },
  {
   "cell_type": "code",
   "execution_count": 3,
   "metadata": {},
   "outputs": [
    {
     "data": {
      "text/latex": [
       "$\\displaystyle 4.0 x^{3} - 3.0 x^{2} + 1.0$"
      ],
      "text/plain": [
       "4.0*x**3 - 3.0*x**2 + 1.0"
      ]
     },
     "execution_count": 3,
     "metadata": {},
     "output_type": "execute_result"
    }
   ],
   "source": [
    "nodes = np.array([0,0,1,1,2])\n",
    "values = np.array([1,0,2,6,21])\n",
    "\n",
    "x_symbol = sp.symbols('x')\n",
    "sp.simplify(hermite_poly(nodes, values, x_symbol))"
   ]
  },
  {
   "cell_type": "markdown",
   "metadata": {},
   "source": [
    "And that is the interpolating polynomial that satisfies the interpolating conditions."
   ]
  },
  {
   "cell_type": "markdown",
   "metadata": {},
   "source": [
    "Now, let's achieve the same result without using Python."
   ]
  },
  {
   "cell_type": "markdown",
   "metadata": {},
   "source": [
    "We need to define a polynomial, but first we need to know its degree.\n",
    "\n",
    "The degree of the Hermite polynomial is equal to the number of times each different node is encountered minus one.\n",
    "\n",
    "In this case: degree = 2 + 2 + 1 - 1 = 4"
   ]
  },
  {
   "cell_type": "markdown",
   "metadata": {},
   "source": [
    "$$\n",
    "\\psi(x) := Ax^4 + Bx^3 + Cx^2 + Dx + E\n",
    "$$\n",
    "\n",
    "$$\n",
    "\\psi'(x) = 4Ax^3 + 3Bx^2 + Cx + D\n",
    "$$\n",
    "\n",
    "$$\n",
    "\\psi(0) = 1 \\implies E = 1\n",
    "$$\n",
    "\n",
    "$$\n",
    "\\psi'(0) = 0 \\implies D = 0\n",
    "$$"
   ]
  },
  {
   "cell_type": "markdown",
   "metadata": {},
   "source": [
    "$$\n",
    "\\psi(1) = A + B + C + 1 = 2\n",
    "$$\n",
    "\n",
    "$$\n",
    "\\psi'(1) = 4A + 3B + 2C = 6\n",
    "$$\n",
    "\n",
    "$$\n",
    "\\psi(2) = 16A + 8B + 4C + 1 = 21\n",
    "$$"
   ]
  },
  {
   "cell_type": "markdown",
   "metadata": {},
   "source": [
    "$$\n",
    "\\begin{cases}\n",
    "    A + B + C = 1 \\\\\n",
    "    4A = 6 - 3B - 2C \\\\\n",
    "    4A + 2B + C = 5\n",
    "\\end{cases}\n",
    "$$"
   ]
  },
  {
   "cell_type": "markdown",
   "metadata": {},
   "source": [
    "<div style=\"text-align:center;\">We substitute 4A from the second equaion into the third.</div>\n",
    "\n",
    "$$\n",
    "(6 - 3B - 2C) + 2B + C = 5\n",
    "$$\n",
    "\n",
    "$$\n",
    "-B -C = -1\n",
    "$$\n",
    "\n",
    "$$\n",
    "B + C = 1\n",
    "$$"
   ]
  },
  {
   "cell_type": "markdown",
   "metadata": {},
   "source": [
    "<div style=\"text-align:center;\">Now we substitute this result into the first equation.</div>\n",
    "\n",
    "$$\n",
    "A + 1 = 1\n",
    "$$\n",
    "\n",
    "$$\n",
    "A = 0\n",
    "$$"
   ]
  },
  {
   "cell_type": "markdown",
   "metadata": {},
   "source": [
    "<div style=\"text-align:center;\">Now we are left with:</div>\n",
    "\n",
    "$$\n",
    "\\begin{cases}\n",
    "    3B + 2C = 6 \\\\\n",
    "    2B + C = 5\n",
    "\\end{cases}\n",
    "$$"
   ]
  },
  {
   "cell_type": "markdown",
   "metadata": {},
   "source": [
    "<div style=\"text-align:center;\">And from here:</div>\n",
    "\n",
    "$$\n",
    "B = 4 \n",
    "$$\n",
    "\n",
    "$$\n",
    "C = -3\n",
    "$$"
   ]
  },
  {
   "cell_type": "markdown",
   "metadata": {},
   "source": [
    "$$\n",
    "\\psi(x) = 4x^3 - 3x^2 + 1\n",
    "$$"
   ]
  }
 ],
 "metadata": {
  "kernelspec": {
   "display_name": "Python 3",
   "language": "python",
   "name": "python3"
  },
  "language_info": {
   "codemirror_mode": {
    "name": "ipython",
    "version": 3
   },
   "file_extension": ".py",
   "mimetype": "text/x-python",
   "name": "python",
   "nbconvert_exporter": "python",
   "pygments_lexer": "ipython3",
   "version": "3.10.12"
  }
 },
 "nbformat": 4,
 "nbformat_minor": 2
}
