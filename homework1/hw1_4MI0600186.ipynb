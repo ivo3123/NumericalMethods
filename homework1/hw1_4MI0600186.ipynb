{
 "cells": [
  {
   "cell_type": "code",
   "execution_count": 1,
   "id": "f5204112-c70d-47dd-b6e7-43bfe729b9fe",
   "metadata": {},
   "outputs": [],
   "source": [
    "import numpy as np\n",
    "import scipy.optimize as opt\n",
    "import matplotlib.pyplot as plt\n",
    "from sympy import symbols, diff, Eq, solve"
   ]
  },
  {
   "cell_type": "code",
   "execution_count": null,
   "id": "fb4fd2cb-b88d-4ef9-b872-dcd1cba8ce40",
   "metadata": {},
   "outputs": [],
   "source": [
    "# Task 6 file A"
   ]
  },
  {
   "cell_type": "code",
   "execution_count": 7,
   "id": "31a054ae-cf45-48c3-9f15-21674839cc29",
   "metadata": {},
   "outputs": [],
   "source": [
    "nodes = np.array([0.5, 1, 2, 3, 4])\n",
    "values = np.array([10.4, 5.8, 3.3, 2.4, 2])\n",
    "\n",
    "'''\n",
    "y = ((a + sqrt(x)) / (b * x)) ^ 2\n",
    "<=>\n",
    "yi = ((a + sqrt(xi)) / (b * xi)) ^ 2\n",
    "~~\n",
    "sqrt(yi) = A * (1/x) + B * (1/sqrt(x)) = f(x)\n",
    "    where A = a/b and B = 1/b\n",
    "\n",
    "and we want to minimize phi where\n",
    "phi = sum((A * (1/xi) + B * (1/sqrt(xi))) - sqrt(yi)) for i in 0..nodes/values.size\n",
    "minimization is done with taking the derivative\n",
    "'''\n",
    "\n",
    "def hw1_A_task6_func(a, b, x):\n",
    "    return ((a + np.sqrt(x)) / (b * x)) ** 2\n",
    "\n",
    "A, B = symbols('A, B')\n",
    "def f(A, B, x):\n",
    "    return A * (1 / x) + B * (1 / np.sqrt(x))\n",
    "\n",
    "def phi(A, B):\n",
    "    sum_of_squares = 0\n",
    "    for i in range(nodes.size):\n",
    "        sum_of_squares += (f(A, B, nodes[i]) - np.sqrt(values[i])) ** 2\n",
    "    return sum_of_squares\n",
    "\n",
    "equations = [\n",
    "    Eq(diff(phi(A, B), A), 0),\n",
    "    Eq(diff(phi(A, B), B), 0)\n",
    "]\n",
    "sol = solve(equations)\n",
    "A = sol[A]\n",
    "B = sol[B]\n",
    "\n",
    "b = 1 / B\n",
    "a = b * A\n",
    "\n",
    "x_target = 1.6\n",
    "value_of_x_target = hw1_A_task6_func(a, b, x_target)"
   ]
  },
  {
   "cell_type": "code",
   "execution_count": 9,
   "id": "e74ff754-007d-4a05-8303-4fd1466ae4ff",
   "metadata": {},
   "outputs": [
    {
     "name": "stdout",
     "output_type": "stream",
     "text": [
      "a is -0.162787641761994 and b is 0.340015744995022\n"
     ]
    }
   ],
   "source": [
    "print(\"a is\", a, \"and b is\", b)"
   ]
  },
  {
   "cell_type": "code",
   "execution_count": 11,
   "id": "66b1286d-478a-4d1a-bf82-6461adf3c87c",
   "metadata": {},
   "outputs": [
    {
     "name": "stdout",
     "output_type": "stream",
     "text": [
      "when x is 1.6, then y is 4.10414260315480\n"
     ]
    }
   ],
   "source": [
    "print(\"when x is 1.6, then y is\", value_of_x_target)"
   ]
  },
  {
   "cell_type": "code",
   "execution_count": 15,
   "id": "eb0b9f6f-f4d7-43c6-9e4a-4cfc949636a2",
   "metadata": {},
   "outputs": [
    {
     "data": {
      "image/png": "[encoded data removed]",
      "text/plain": [
       "<Figure size 640x480 with 1 Axes>"
      ]
     },
     "metadata": {},
     "output_type": "display_data"
    }
   ],
   "source": [
    "plt.scatter(nodes, values, color='green')\n",
    "plt.scatter([x_target], [value_of_x_target], color='purple')\n",
    "plt.legend(['data', 'added_point'])\n",
    "plt.show()"
   ]
  },
  {
   "cell_type": "code",
   "execution_count": null,
   "id": "bba9a474-dc7b-4e0d-a0bd-c8398b4f42e9",
   "metadata": {},
   "outputs": [],
   "source": [
    "# Task 8 file B"
   ]
  },
  {
   "cell_type": "code",
   "execution_count": 17,
   "id": "b03eef00-918f-4995-beac-5b6247b2dc3a",
   "metadata": {},
   "outputs": [],
   "source": [
    "nodes = np.array([0.4, 0.8, 1.2, 1.6, 2, 2.3])\n",
    "values = np.array([800, 975, 1500, 1960, 2900, 3600])\n",
    "\n",
    "def mnmk_matrix_function(x, y, degree):\n",
    "    if x.size != y.size:\n",
    "        raise ValueError('The size of the two arrays should be equal')\n",
    "    if degree < 0:\n",
    "        raise ValueError('The degree should not be negative')\n",
    "    \n",
    "    points_count = x.size\n",
    "    n = degree + 1\n",
    "\n",
    "    # We create the vector of values of the right side of the equation\n",
    "    values_vector_column = np.array([sum(y[i] * (x[i] ** s) for i in range(points_count)) for s in range(n)])\n",
    "\n",
    "    # We create the matrix\n",
    "    matrix = np.ones([n, n])\n",
    "    for row in range(n):\n",
    "        for column in range(n):\n",
    "            matrix[row, column] = sum(x[i] ** (row + column) for i in range(points_count))\n",
    "\n",
    "    # We solve the vector column of the left side of the equation to the right of the matrix,\n",
    "    # containing all the coefficients of the desired polinom\n",
    "    return np.linalg.solve(matrix, values_vector_column)\n",
    "\n",
    "def hw1_B_task8_func(a, b, x):\n",
    "    return a * 10 ** (b * x)\n",
    "\n",
    "'''\n",
    "y = a * 10 ** (b * x)\n",
    "~~\n",
    "y* = c + b * x\n",
    "    where y* = log10(y) and c = log10(a)\n",
    "\n",
    "This way we can find the values of a and b\n",
    "as we can use the mnmk_function to find the coefficients of a linear equation\n",
    "and the linear equation we will use is the one rewritten above\n",
    "'''\n",
    "\n",
    "c, b = mnmk_matrix_function(nodes, np.log10(values), degree_of_linear_functions := 1)\n",
    "\n",
    "# log10(a) == c  <=>  a == c ** 10\n",
    "a = 10 ** c\n",
    "\n",
    "x_axis = np.linspace(nodes.min(), nodes.max(), 200)"
   ]
  },
  {
   "cell_type": "code",
   "execution_count": 21,
   "id": "11059842-51f5-4d6a-b273-cd712f917579",
   "metadata": {},
   "outputs": [
    {
     "name": "stdout",
     "output_type": "stream",
     "text": [
      "a is 546.7356648403321 and b is 0.3557202412812166\n"
     ]
    }
   ],
   "source": [
    "print(\"a is\", a, \"and b is\", b)"
   ]
  },
  {
   "cell_type": "code",
   "execution_count": 19,
   "id": "7340e022-29de-4694-b6d6-d1ee97b4c322",
   "metadata": {},
   "outputs": [
    {
     "data": {
      "image/png": "[encoded data removed]",
      "text/plain": [
       "<Figure size 640x480 with 1 Axes>"
      ]
     },
     "metadata": {},
     "output_type": "display_data"
    }
   ],
   "source": [
    "plt.scatter(nodes, values, color='orange')\n",
    "plt.plot(x_axis, hw1_B_task8_func(a, b, x_axis), color='blue')\n",
    "plt.xlabel('x')\n",
    "plt.ylabel('y')\n",
    "plt.title('Функция от вида y = a * 10^(b * x)')\n",
    "plt.legend(['данните', 'функцията'])\n",
    "plt.show()"
   ]
  },
  {
   "cell_type": "code",
   "execution_count": null,
   "id": "e88a8a04-5c18-460b-949c-3454ff5c402a",
   "metadata": {},
   "outputs": [],
   "source": []
  }
 ],
 "metadata": {
  "kernelspec": {
   "display_name": "anaconda-panel-2023.05-py310",
   "language": "python",
   "name": "conda-env-anaconda-panel-2023.05-py310-py"
  },
  "language_info": {
   "codemirror_mode": {
    "name": "ipython",
    "version": 3
   },
   "file_extension": ".py",
   "mimetype": "text/x-python",
   "name": "python",
   "nbconvert_exporter": "python",
   "pygments_lexer": "ipython3",
   "version": "3.11.5"
  }
 },
 "nbformat": 4,
 "nbformat_minor": 5
}
