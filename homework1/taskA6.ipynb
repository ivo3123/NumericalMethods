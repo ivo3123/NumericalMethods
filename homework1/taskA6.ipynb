{
 "cells": [
  {
   "cell_type": "markdown",
   "metadata": {},
   "source": [
    "| x | y |\n",
    "| :-: | :-: |\n",
    "| 0.5 | 10.4 |\n",
    "| 1 | 5.8 |\n",
    "| 2 | 3.3 |\n",
    "| 3 | 2.4 |\n",
    "| 4 | 2 |\n",
    "\n",
    "The data from the table can be modelled using the formula:\n",
    "$ y = (\\dfrac{a + \\sqrt x}{bx})^2 $\n",
    "\n",
    "Linearize the model using an adequate transformation.\n",
    "\n",
    "Determine the values of $ a $ and $ b $ using the least squares method.\n",
    "\n",
    "Calculate the value of $ y $ when $ x = 1.6 $.\n",
    "\n",
    "Visualize."
   ]
  },
  {
   "cell_type": "code",
   "execution_count": 1,
   "metadata": {},
   "outputs": [],
   "source": [
    "import numpy as np\n",
    "import matplotlib.pyplot as plt\n",
    "import scipy.optimize as opt\n",
    "from sympy import symbols, diff, Eq, solve"
   ]
  },
  {
   "cell_type": "code",
   "execution_count": 2,
   "metadata": {},
   "outputs": [],
   "source": [
    "nodes = np.array([0.5, 1, 2, 3, 4])\n",
    "values = np.array([10.4, 5.8, 3.3, 2.4, 2])"
   ]
  },
  {
   "cell_type": "markdown",
   "metadata": {},
   "source": [
    "Let $ n $ be the the length of the given table.\n",
    "\n",
    "$ y = (\\dfrac{a + \\sqrt x}{bx})^2 $\n",
    "\n",
    "$ \\iff $\n",
    "\n",
    "$ y_i = (\\dfrac{a + \\sqrt x_i}{bx_i})^2 \\space $ for $ i = 1, 2, ..., n $\n",
    "\n",
    "$ \\sqrt y_i = \\dfrac{a + \\sqrt x_i}{bx_i} \\space $ for $ i = 1, 2, ..., n $\n",
    "\n",
    "$ \\sqrt y_i = \\dfrac{a}{bx_i} + \\dfrac{\\sqrt x_i}{bx_i} \\space $ for $ i = 1, 2, ..., n $\n",
    "\n",
    "$ \\sqrt y_i = \\dfrac{a}{b} \\dfrac{1}{x_i} + \\dfrac{1}{b} \\dfrac{\\sqrt x_i}{x_i} \\space $ for $ i = 1, 2, ..., n $\n",
    "\n",
    "$ \\sqrt y_i = \\dfrac{a}{b} \\dfrac{1}{x_i} + \\dfrac{1}{b} \\dfrac{1}{\\sqrt x_i} \\space $ for $ i = 1, 2, ..., n $\n",
    "\n",
    "Let $ A = a/b $ and $ B = 1/b $\n",
    "\n",
    "$ \\sqrt y_i = A \\dfrac{1}{x_i} + B \\dfrac{1}{\\sqrt x_i} \\space $ for $ i = 1, 2, ..., n $\n",
    "\n",
    "Note that in the equation above $ x_i $ and $ y_i $ are data from the table and thus are known values.\n",
    "The variables are $ A $ and $ B $.\n",
    "\n",
    "Let's define $ \\phi(A, B) = \\displaystyle\\sum_{i = 1}^{n}(A \\dfrac{1}{x_i} + B \\dfrac{1}{\\sqrt x_i} - \\sqrt y_i)^2 $\n",
    "\n",
    "We want to minimize $ \\phi $ and for that we will solve:\n",
    "\n",
    "$\n",
    "\\begin{cases}\n",
    "    \\phi'_A(A, B) = 0 \\\\\n",
    "    \\phi'_B(A, B) = 0\n",
    "\\end{cases}\n",
    "$"
   ]
  },
  {
   "cell_type": "code",
   "execution_count": 3,
   "metadata": {},
   "outputs": [],
   "source": [
    "def y(a, b, x):\n",
    "    return ((a + np.sqrt(x)) / (b * x)) ** 2\n",
    "\n",
    "def f(A, B, x):\n",
    "    return A * (1 / x) + B * (1 / np.sqrt(x))\n",
    "\n",
    "def phi(A, B):\n",
    "    return sum((f(A, B, nodes[i]) - np.sqrt(values[i])) ** 2 for i in range(nodes.size))"
   ]
  },
  {
   "cell_type": "code",
   "execution_count": 4,
   "metadata": {},
   "outputs": [
    {
     "ename": "NameError",
     "evalue": "name 'sol' is not defined",
     "output_type": "error",
     "traceback": [
      "\u001b[0;31m---------------------------------------------------------------------------\u001b[0m",
      "\u001b[0;31mNameError\u001b[0m                                 Traceback (most recent call last)",
      "Cell \u001b[0;32mIn[4], line 10\u001b[0m\n\u001b[1;32m      3\u001b[0m equations \u001b[38;5;241m=\u001b[39m [\n\u001b[1;32m      4\u001b[0m     Eq(diff(phi(A, B), A), \u001b[38;5;241m0\u001b[39m),\n\u001b[1;32m      5\u001b[0m     Eq(diff(phi(A, B), B), \u001b[38;5;241m0\u001b[39m)\n\u001b[1;32m      6\u001b[0m ]\n\u001b[1;32m      8\u001b[0m solutions \u001b[38;5;241m=\u001b[39m solve(equations)\n\u001b[0;32m---> 10\u001b[0m A \u001b[38;5;241m=\u001b[39m \u001b[43msol\u001b[49m[A]\n\u001b[1;32m     11\u001b[0m B \u001b[38;5;241m=\u001b[39m sol[B]\n\u001b[1;32m     13\u001b[0m b \u001b[38;5;241m=\u001b[39m \u001b[38;5;241m1\u001b[39m \u001b[38;5;241m/\u001b[39m B\n",
      "\u001b[0;31mNameError\u001b[0m: name 'sol' is not defined"
     ]
    }
   ],
   "source": [
    "A, B = symbols('A, B')\n",
    "\n",
    "equations = [\n",
    "    Eq(diff(phi(A, B), A), 0),\n",
    "    Eq(diff(phi(A, B), B), 0)\n",
    "]\n",
    "\n",
    "solutions = solve(equations)\n",
    "\n",
    "A = sol[A]\n",
    "B = sol[B]\n",
    "\n",
    "b = 1 / B\n",
    "a = b * A\n",
    "\n",
    "print('a is', a, 'and b is:', b)"
   ]
  },
  {
   "cell_type": "markdown",
   "metadata": {},
   "source": [
    ">Note that $ A $ and $ B $ are initially declared as symbols and then reassigned to float numbers."
   ]
  },
  {
   "cell_type": "code",
   "execution_count": null,
   "metadata": {},
   "outputs": [
    {
     "data": {
      "text/latex": [
       "$\\displaystyle 4.1041426031548$"
      ],
      "text/plain": [
       "4.10414260315480"
      ]
     },
     "execution_count": 29,
     "metadata": {},
     "output_type": "execute_result"
    }
   ],
   "source": [
    "x_target = 1.6\n",
    "\n",
    "value_of_x_target = y(a, b, x_target)\n",
    "\n",
    "value_of_x_target"
   ]
  },
  {
   "cell_type": "code",
   "execution_count": null,
   "metadata": {},
   "outputs": [
    {
     "data": {
      "image/png": "[encoded data removed]",
      "text/plain": [
       "<Figure size 640x480 with 1 Axes>"
      ]
     },
     "metadata": {},
     "output_type": "display_data"
    }
   ],
   "source": [
    "x_axis = np.linspace(nodes.min(), nodes.max(), 200)\n",
    "\n",
    "plt.scatter(nodes, values, color='green')\n",
    "plt.scatter([x_target], [value_of_x_target], color='purple')\n",
    "plt.plot(x_axis, y(a, b, x_axis), color='orange', linestyle='dashed')\n",
    "plt.legend(['data', 'added data', '$y(x) = ((a + \\sqrt(x)) / (b*x))^2$'])\n",
    "plt.show()"
   ]
  }
 ],
 "metadata": {
  "kernelspec": {
   "display_name": "Python 3",
   "language": "python",
   "name": "python3"
  },
  "language_info": {
   "codemirror_mode": {
    "name": "ipython",
    "version": 3
   },
   "file_extension": ".py",
   "mimetype": "text/x-python",
   "name": "python",
   "nbconvert_exporter": "python",
   "pygments_lexer": "ipython3",
   "version": "3.12.3"
  }
 },
 "nbformat": 4,
 "nbformat_minor": 2
}
