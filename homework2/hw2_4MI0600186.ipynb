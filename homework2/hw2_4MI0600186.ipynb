{
 "cells": [
  {
   "cell_type": "code",
   "execution_count": 2,
   "id": "1e560599-550b-4666-b45d-dff8fb7396fd",
   "metadata": {},
   "outputs": [],
   "source": [
    "import numpy as np"
   ]
  },
  {
   "cell_type": "code",
   "execution_count": 3,
   "id": "95f2845d-a54b-4465-a0c0-054165858dcb",
   "metadata": {},
   "outputs": [],
   "source": [
    "# Task 6 file A"
   ]
  },
  {
   "cell_type": "code",
   "execution_count": 4,
   "id": "b4fde3d5-107f-40ad-b0d6-1b90a13d5108",
   "metadata": {},
   "outputs": [],
   "source": [
    "nodes = np.array([0, np.pi/4, np.pi/2, 3*np.pi/4, np.pi])\n",
    "values = np.array([1, 0.3431, 0.25, 0.3431, 1])\n",
    "\n",
    "a = 0\n",
    "b = np.pi\n",
    "\n",
    "i = 2\n",
    "n = nodes.size\n",
    "\n",
    "sum = 0\n",
    "while (i <= n):\n",
    "    sum += values[i-2] + 4*values[i-1] + values[i]\n",
    "    i += 2\n",
    "\n",
    "part_before_sum = (b - a) / (6 * n)\n",
    "\n",
    "integral_value = part_before_sum * sum"
   ]
  },
  {
   "cell_type": "code",
   "execution_count": 10,
   "id": "9706ca28-99e8-467e-9c4c-aedb9e0ef6db",
   "metadata": {},
   "outputs": [
    {
     "name": "stdout",
     "output_type": "stream",
     "text": [
      "0.5492341716515915\n"
     ]
    }
   ],
   "source": [
    "print(integral_value)"
   ]
  },
  {
   "cell_type": "code",
   "execution_count": 11,
   "id": "19736a2a",
   "metadata": {},
   "outputs": [],
   "source": [
    "# Task 8 file B"
   ]
  },
  {
   "cell_type": "code",
   "execution_count": 8,
   "id": "c5c9ae04-4794-4045-9e34-9e4d62ef08a7",
   "metadata": {},
   "outputs": [],
   "source": [
    "epsilon = 0.00001\n",
    "\n",
    "a = -2\n",
    "b = -1\n",
    "\n",
    "def f(x):\n",
    "    ctg = np.cos(x) / np.sin(x)\n",
    "    return 1 - ctg\n",
    "\n",
    "def simpson(n):\n",
    "    p = np.linspace(a, b, n + 1)  # creates n + 1 equally spaced-out points to form n subintervals\n",
    "    sum = 0\n",
    "    for i in range(1, n):\n",
    "        sum += f(p[i-1]) + 4*f((p[i-1] + p[i]) / 2) + f(p[i])\n",
    "    \n",
    "    part_before_sum = (b - a) / (6 * n)\n",
    "\n",
    "    return part_before_sum * sum\n",
    "\n",
    "integral_value_at_n_minus_one_points = simpson(2)\n",
    "integral_value_at_n_points = simpson(3)\n",
    "\n",
    "ctr = 4\n",
    "\n",
    "while (True):\n",
    "    if abs(integral_value_at_n_minus_one_points - integral_value_at_n_points) <= epsilon:\n",
    "        break\n",
    "    integral_value_at_n_minus_one_points = integral_value_at_n_points\n",
    "    integral_value_at_n_points = simpson(ctr)\n",
    "    ctr += 1"
   ]
  },
  {
   "cell_type": "code",
   "execution_count": 9,
   "id": "dfe4a98d",
   "metadata": {},
   "outputs": [
    {
     "name": "stdout",
     "output_type": "stream",
     "text": [
      "1.0734804264766853\n"
     ]
    }
   ],
   "source": [
    "print(integral_value_at_n_points)"
   ]
  }
 ],
 "metadata": {
  "kernelspec": {
   "display_name": "Python 3",
   "language": "python",
   "name": "python3"
  },
  "language_info": {
   "codemirror_mode": {
    "name": "ipython",
    "version": 3
   },
   "file_extension": ".py",
   "mimetype": "text/x-python",
   "name": "python",
   "nbconvert_exporter": "python",
   "pygments_lexer": "ipython3",
   "version": "3.12.2"
  }
 },
 "nbformat": 4,
 "nbformat_minor": 5
}
