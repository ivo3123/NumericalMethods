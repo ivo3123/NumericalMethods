{
 "cells": [
  {
   "cell_type": "markdown",
   "metadata": {},
   "source": [
    "The table gives measurements of the temperature at various points on a heated rectangular metal plate:\n",
    "\n",
    "|\t    | x = 0 | x = 2 | x = 4 | x = 6 | x = 8 |\n",
    "| :---: | :---: | :---: | :---: | :---: | :---: |\n",
    "| y = 0 | 100.00| 90.00 | 80.00 | 70.00 | 60.00 |\n",
    "| y = 2 | 85.00 | 64.49 | 53.50 | 48.15 | 50.00 |\n",
    "| y = 4 | 70.00 | 48.90 | 38.43 | 35.03 | 40.00 |\n",
    "| y = 6 | 55.00 | 38.78 | 30.39 | 27.07 | 30.00 |\n",
    "| y = 8 | 40.00 | 35.00 | 30.00 | 25.00 | 20.00 |\n",
    "\n",
    "Estimate the temperature at the points with coordinates:\n",
    "* $x = 4, \\space y = 3.2;$\n",
    "* $x = 4.3, \\space y = 2.7$"
   ]
  },
  {
   "cell_type": "code",
   "execution_count": 1,
   "metadata": {
    "metadata": {}
   },
   "outputs": [],
   "source": [
    "import numpy as np"
   ]
  },
  {
   "cell_type": "code",
   "execution_count": 2,
   "metadata": {
    "metadata": {}
   },
   "outputs": [],
   "source": [
    "import sys\n",
    "sys.path.append('../util')\n",
    "\n",
    "from lagrange_poly import lagrange_poly"
   ]
  },
  {
   "cell_type": "code",
   "execution_count": 5,
   "metadata": {
    "metadata": {}
   },
   "outputs": [],
   "source": [
    "x_nodes = [0, 2, 4, 6, 8]\n",
    "y_nodes = [\n",
    "    0,\n",
    "    2,\n",
    "    4,\n",
    "    6,\n",
    "    8\n",
    "]\n",
    "\n",
    "columns = [\n",
    "    [100, 85, 70, 55, 40],\n",
    "    [90, 64.49, 48.9, 38.78, 35],\n",
    "    [80, 53.50, 38.43, 30.39, 30],\n",
    "    [70, 48.15, 35.03, 27.07, 25],\n",
    "    [60, 50, 40, 30, 20]\n",
    "]"
   ]
  },
  {
   "cell_type": "code",
   "execution_count": 10,
   "metadata": {
    "metadata": {}
   },
   "outputs": [],
   "source": [
    "def get_missing_data(x, y):\n",
    "    new_row_for_x_val = [(lagrange_poly(np.array(y_nodes), np.array(columns[i]), y)) for i in range(0, len(y_nodes))]\n",
    "\n",
    "    return lagrange_poly(np.array(x_nodes), np.array(new_row_for_x_val), x)"
   ]
  },
  {
   "cell_type": "code",
   "execution_count": 11,
   "metadata": {
    "metadata": {}
   },
   "outputs": [
    {
     "name": "stdout",
     "output_type": "stream",
     "text": [
      "The temperature at x = 4 and y = 3.2 is 43.48044799999999\n",
      "The temperature at x = 4.3 and y = 2.7 is 46.19974739331736\n"
     ]
    }
   ],
   "source": [
    "print(\"The temperature at x = 4 and y = 3.2 is\", get_missing_data(4, 3.2))\n",
    "print(\"The temperature at x = 4.3 and y = 2.7 is\", get_missing_data(4.3, 2.7))"
   ]
  }
 ],
 "metadata": {
  "kernelspec": {
   "display_name": "Python 3",
   "language": "python",
   "name": "python3"
  },
  "language_info": {
   "codemirror_mode": {
    "name": "ipython",
    "version": 3
   },
   "file_extension": ".py",
   "mimetype": "text/x-python",
   "name": "python",
   "nbconvert_exporter": "python",
   "pygments_lexer": "ipython3",
   "version": "3.12.3"
  }
 },
 "nbformat": 4,
 "nbformat_minor": 2
}
