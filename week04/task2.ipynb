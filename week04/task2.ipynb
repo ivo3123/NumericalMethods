{
 "cells": [
  {
   "cell_type": "markdown",
   "metadata": {},
   "source": [
    "Един възможен подход за ефективно пресмятане на стойност на функция в точка е т.нар. lookup table\n",
    "    (вж.https://en.wikipedia.org/wiki/Lookup_table).\n",
    "\n",
    "Да се напише фунцкия lookup_table_f(x_val), която пресмята приближено стойността на функцията 𝑓(𝑥)=sin(sqrt(x))\n",
    "    в интервала [0,2𝜋], като използва 2 предварително генерирани масива - f_nodes,\n",
    "        съдържащ равноотдалечени на разстояние ℎ=0.01 точки в интервала [0,2𝜋] и f_values - масив от стойности на фунцкията f,\n",
    "            пресметнати в точките f_nodes.\n",
    "Функцията трябва да пресмята приближено стойността на 𝑓(𝑥)\n",
    "    като използва кубична интерполация в най-близките до x_val възли от списъка f_nodes. За стойности на x_val,\n",
    "        които принадлежат на интервалите [0,0.01] и [2𝜋−0.01,2𝜋] да се построява интерполационен полином от 𝜋2.\n",
    "В случай, че подаденият аргумент x_val лежи извън интервала [0,2𝜋], да се извежда подходящо съобщение."
   ]
  },
  {
   "cell_type": "code",
   "execution_count": 158,
   "metadata": {
    "metadata": {}
   },
   "outputs": [],
   "source": [
    "import numpy as np\n",
    "import bisect"
   ]
  },
  {
   "cell_type": "code",
   "execution_count": 159,
   "metadata": {
    "metadata": {}
   },
   "outputs": [],
   "source": [
    "import sys\n",
    "sys.path.append('../util')\n",
    "\n",
    "from lagrange_poly import lagrange_poly"
   ]
  },
  {
   "cell_type": "code",
   "execution_count": 160,
   "metadata": {
    "metadata": {}
   },
   "outputs": [],
   "source": [
    "def look_up_table_f(x, function=lambda x: np.sin(np.sqrt(x)), interval_begin=0, interval_end=2*np.pi, h=0.01, verbose=False):\n",
    "    if x < interval_begin or x > interval_end:\n",
    "        return None\n",
    "    \n",
    "    interval_begin = round(interval_begin, 2)\n",
    "    interval_end = round(interval_end, 2)\n",
    "\n",
    "    nodes = [i * h for i in range(int((interval_end - interval_begin) * 100) + 1)]\n",
    "    values = function(nodes)\n",
    "\n",
    "    def get_neighbors(x):\n",
    "        for i in range(len(nodes) - 1):\n",
    "            if nodes[i] == x:\n",
    "                return nodes[i-1], nodes[i+1]\n",
    "            if nodes[i] < x and x < nodes[i+1]:\n",
    "                return nodes[i], nodes[i+1]\n",
    "\n",
    "    get_index = lambda node_value: bisect.bisect_left(nodes, node_value)\n",
    "\n",
    "    def interpolate(nodes, values, x):\n",
    "        if verbose == True:\n",
    "            print('Interpolating the nodes:', nodes, 'for x:', x)\n",
    "\n",
    "        return lagrange_poly(nodes, values, x)\n",
    "\n",
    "    if x - interval_begin <= h:\n",
    "        interpolation_nodes = np.array(nodes[0:3])\n",
    "        interpolation_values = np.array([\n",
    "            values[0],\n",
    "            values[1],\n",
    "            values[2],\n",
    "        ])\n",
    "        \n",
    "        return interpolate(interpolation_nodes, interpolation_values, x)\n",
    "\n",
    "    if interval_end - x <= h:\n",
    "        nodes = np.flip(nodes)\n",
    "        values = np.flip(values)\n",
    "\n",
    "        interpolation_nodes = np.array(nodes[0:3])\n",
    "        interpolation_values = np.array([\n",
    "            values[0],\n",
    "            values[1],\n",
    "            values[2],\n",
    "        ])\n",
    "\n",
    "        interpolation_nodes = np.flip(interpolation_nodes)\n",
    "        interpolation_values = np.flip(interpolation_values)\n",
    "\n",
    "        return interpolate(interpolation_nodes, interpolation_values, x)\n",
    "\n",
    "    left1, right1 = get_neighbors(x)\n",
    "\n",
    "    left2, _ = get_neighbors(left1)\n",
    "    _, right2 = get_neighbors(right1)\n",
    "\n",
    "    interpolation_nodes = np.array([\n",
    "        left2,\n",
    "        left1,\n",
    "        right1,\n",
    "        right2,\n",
    "    ])\n",
    "\n",
    "    interpolation_values = np.array([\n",
    "        values[get_index(left2)],\n",
    "        values[get_index(left1)],\n",
    "        values[get_index(right1)],\n",
    "        values[get_index(right2)],\n",
    "    ])\n",
    "\n",
    "    return interpolate(interpolation_nodes, interpolation_values, x)"
   ]
  },
  {
   "cell_type": "code",
   "execution_count": 161,
   "metadata": {
    "metadata": {}
   },
   "outputs": [
    {
     "name": "stdout",
     "output_type": "stream",
     "text": [
      "Interpolating the nodes: [1.59 1.6  1.61 1.62] for x: 1.602311\n",
      "Approximated value of sin(sqrt(1.602311)) 0.9538553335959832\n",
      "Exact value of sin(sqrt(1.602311)) 0.9538553335617003\n"
     ]
    }
   ],
   "source": [
    "print('Approximated value of sin(sqrt(1.602311))', look_up_table_f(1.602311, verbose=True))\n",
    "print('Exact value of sin(sqrt(1.602311))', np.sin(np.sqrt(1.602311)))"
   ]
  },
  {
   "cell_type": "code",
   "execution_count": 162,
   "metadata": {
    "metadata": {}
   },
   "outputs": [
    {
     "name": "stdout",
     "output_type": "stream",
     "text": [
      "Interpolating the nodes: [0.   0.01 0.02] for x: 0.0075\n",
      "Approximated value of sin(sqrt(0.0075)) 0.08037972595984295\n",
      "Exact value of sin(sqrt(0.0075)) 0.08649432779066327\n"
     ]
    }
   ],
   "source": [
    "x = 0.0075\n",
    "\n",
    "print(f'Approximated value of sin(sqrt({x}))', look_up_table_f(x, verbose=True))\n",
    "print(f'Exact value of sin(sqrt({x}))', np.sin(np.sqrt(x)))"
   ]
  },
  {
   "cell_type": "code",
   "execution_count": 163,
   "metadata": {
    "metadata": {}
   },
   "outputs": [
    {
     "name": "stdout",
     "output_type": "stream",
     "text": [
      "Interpolating the nodes: [6.26 6.27 6.28] for x: 6.28\n",
      "Approximated value of sin(sqrt(6.28)) 0.5936603188902636\n",
      "Exact value of sin(sqrt(6.28)) 0.5936603188902636\n"
     ]
    }
   ],
   "source": [
    "print('Approximated value of sin(sqrt(6.28))', look_up_table_f(6.28, verbose=True))\n",
    "print('Exact value of sin(sqrt(6.28))', np.sin(np.sqrt(6.28)))"
   ]
  }
 ],
 "metadata": {
  "kernelspec": {
   "display_name": "Python 3",
   "language": "python",
   "name": "python3"
  },
  "language_info": {
   "codemirror_mode": {
    "name": "ipython",
    "version": 3
   },
   "file_extension": ".py",
   "mimetype": "text/x-python",
   "name": "python",
   "nbconvert_exporter": "python",
   "pygments_lexer": "ipython3",
   "version": "3.12.3"
  }
 },
 "nbformat": 4,
 "nbformat_minor": 2
}
