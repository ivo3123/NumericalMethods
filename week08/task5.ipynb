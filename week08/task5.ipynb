{
 "cells": [
  {
   "cell_type": "markdown",
   "metadata": {},
   "source": [
    "Solve the sistem:\n",
    "\n",
    "$\n",
    "\\left|\n",
    "\\begin{aligned}\n",
    "x + y + z &= 1\\\\\n",
    "x + 2y + z&=2\\\\\n",
    "x + 3y + z &= 3\\\\\n",
    "x - 4y + z &= 4\\\\\n",
    "x + 5y + z &= 4\n",
    "\\end{aligned}\n",
    "\\right.\n",
    "$"
   ]
  },
  {
   "cell_type": "code",
   "execution_count": 3,
   "metadata": {
    "metadata": {}
   },
   "outputs": [],
   "source": [
    "import sympy as sp"
   ]
  },
  {
   "cell_type": "code",
   "execution_count": 12,
   "metadata": {
    "metadata": {}
   },
   "outputs": [
    {
     "data": {
      "text/plain": [
       "{x: 322/113 - z, y: -4/113}"
      ]
     },
     "execution_count": 12,
     "metadata": {},
     "output_type": "execute_result"
    }
   ],
   "source": [
    "x = sp.symbols('x')\n",
    "y = sp.symbols('y')\n",
    "z = sp.symbols('z')\n",
    "\n",
    "equations = [\n",
    "    lambda x, y, z: x + y + z - 1,\n",
    "    lambda x, y, z: x + 2*y + z - 2,\n",
    "    lambda x, y, z: x + 3*y + z - 3,\n",
    "    lambda x, y, z: x - 4*y + z - 4,\n",
    "    lambda x, y, z: x + 5*y + z - 4,\n",
    "]\n",
    "\n",
    "def phi(x, y, z):\n",
    "    return sum(equation(x, y, z) ** 2 for equation in equations)\n",
    "\n",
    "equations = [\n",
    "    sp.Eq(sp.diff(phi(x, y, z), x), 0),\n",
    "    sp.Eq(sp.diff(phi(x, y, z), y), 0),\n",
    "    sp.Eq(sp.diff(phi(x, y, z), z), 0)\n",
    "]\n",
    "\n",
    "(solutions := sp.solve(equations))"
   ]
  }
 ],
 "metadata": {
  "kernelspec": {
   "display_name": "Python 3",
   "language": "python",
   "name": "python3"
  },
  "language_info": {
   "codemirror_mode": {
    "name": "ipython",
    "version": 3
   },
   "file_extension": ".py",
   "mimetype": "text/x-python",
   "name": "python",
   "nbconvert_exporter": "python",
   "pygments_lexer": "ipython3",
   "version": "3.12.3"
  }
 },
 "nbformat": 4,
 "nbformat_minor": 2
}
