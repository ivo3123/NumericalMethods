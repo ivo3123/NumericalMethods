{
 "cells": [
  {
   "cell_type": "markdown",
   "metadata": {},
   "source": [
    "Solve the sistem:\n",
    "\n",
    "$\n",
    "\\left|\n",
    "\\begin{aligned}\n",
    "x + y + z &= 1\\\\\n",
    "x + 2y + z&=2\\\\\n",
    "x + 3y + z &= 3\\\\\n",
    "x + 4y + z &= 4\\\\\n",
    "x + 5y + z &= 4\n",
    "\\end{aligned}\n",
    "\\right.\n",
    "$"
   ]
  },
  {
   "cell_type": "markdown",
   "metadata": {},
   "source": [
    "Let's solve it analytically."
   ]
  },
  {
   "cell_type": "markdown",
   "metadata": {},
   "source": [
    "Let's define $ \\phi(x, y, z) = (x+y+z-1)^2 + (x+2y+z-2)^2 + (x+3y+z-3)^2 + (x+4y+z-4)^2 +(x+5y+z-4)^2 $"
   ]
  },
  {
   "cell_type": "markdown",
   "metadata": {},
   "source": [
    "$\n",
    "\\left|\n",
    "\\begin{aligned}\n",
    "\\phi'_x(x, y, z)&=0\\\\\n",
    "\\phi'_y(x, y, z)&=0\\\\\n",
    "\\phi'_z(x, y, z)&=0\n",
    "\\end{aligned}\n",
    "\\right.\n",
    "$"
   ]
  },
  {
   "cell_type": "markdown",
   "metadata": {},
   "source": [
    "$\n",
    "\\left|\n",
    "\\begin{aligned}\n",
    "\\phi'_x(x, y, z)&= 2(x+y+z-1) + 2(x+2y+z-2) + 2(x+3y+z-3) + 2(x+4y+z-4) + 2(x+5y+z-4) = 0 \\\\\n",
    "\\phi'_y(x, y, z)&= 2(x+y+z-1) + 4(x+2y+z-2) + 6(x+3y+z-3) + 8(x+4y+z-4) + 10(x+5y+z-4) = 0 \\\\\n",
    "\\phi'_z(x, y, z)&= 2(x+y+z-1) + 2(x+2y+z-2) + 2(x+3y+z-3) + 2(x+4y+z-4) + 2(x+5y+z-4) = 0\n",
    "\\end{aligned}\n",
    "\\right.\n",
    "$"
   ]
  },
  {
   "cell_type": "markdown",
   "metadata": {},
   "source": [
    "The first and the third equation are _linearly dependent_."
   ]
  },
  {
   "cell_type": "markdown",
   "metadata": {},
   "source": [
    "$\n",
    "\\left|\n",
    "\\begin{aligned}\n",
    "(x+y+z-1) + (x+2y+z-2) + (x+3y+z-3) + (x+4y+z-4) + (x+5y+z-4) = 0 \\\\\n",
    "(x+y+z-1) + 2(x+2y+z-2) + 3(x+3y+z-3) + 4(x+4y+z-4) + 5(x+5y+z-4) &= 0\n",
    "\\end{aligned}\n",
    "\\right.\n",
    "$"
   ]
  },
  {
   "cell_type": "markdown",
   "metadata": {},
   "source": [
    "$\n",
    "\\left|\n",
    "\\begin{aligned}\n",
    "5x + 15y + 5z - 14 = 0 \\\\\n",
    "15x + 55y + 15z - 50 = 0\n",
    "\\end{aligned}\n",
    "\\right.\n",
    "$"
   ]
  },
  {
   "cell_type": "markdown",
   "metadata": {},
   "source": [
    "Let $u = x + z$"
   ]
  },
  {
   "cell_type": "markdown",
   "metadata": {},
   "source": [
    "$\n",
    "\\left|\n",
    "\\begin{aligned}\n",
    "5u + 15y = 14 \\\\\n",
    "3u + 11y = 10\n",
    "\\end{aligned}\n",
    "\\right.\n",
    "$"
   ]
  },
  {
   "cell_type": "markdown",
   "metadata": {},
   "source": [
    "Let's solve this system with Python for simplicify."
   ]
  },
  {
   "cell_type": "code",
   "execution_count": 8,
   "metadata": {
    "metadata": {}
   },
   "outputs": [],
   "source": [
    "import numpy as np\n",
    "import numpy.linalg"
   ]
  },
  {
   "cell_type": "code",
   "execution_count": 16,
   "metadata": {
    "metadata": {}
   },
   "outputs": [
    {
     "data": {
      "text/plain": [
       "array([0.4, 0.8])"
      ]
     },
     "execution_count": 16,
     "metadata": {},
     "output_type": "execute_result"
    }
   ],
   "source": [
    "matrix = np.array([[5, 15], [3, 11]])\n",
    "vector_column = np.array([14, 10])\n",
    "\n",
    "np.linalg.solve(matrix, vector_column)"
   ]
  },
  {
   "cell_type": "markdown",
   "metadata": {},
   "source": [
    "$ x + z = \\dfrac{2}{5} \\space\\text{and}\\space y = \\dfrac{4}{5} $"
   ]
  },
  {
   "cell_type": "markdown",
   "metadata": {},
   "source": [
    "$ x = \\dfrac{2}{5} - z \\space\\text{and}\\space y = \\dfrac{4}{5} $"
   ]
  },
  {
   "cell_type": "markdown",
   "metadata": {},
   "source": [
    "Now let's solve it with Python."
   ]
  },
  {
   "cell_type": "code",
   "execution_count": 2,
   "metadata": {
    "metadata": {}
   },
   "outputs": [],
   "source": [
    "import sympy as sp"
   ]
  },
  {
   "cell_type": "code",
   "execution_count": 3,
   "metadata": {
    "metadata": {}
   },
   "outputs": [
    {
     "data": {
      "text/plain": [
       "{x: 2/5 - z, y: 4/5}"
      ]
     },
     "execution_count": 3,
     "metadata": {},
     "output_type": "execute_result"
    }
   ],
   "source": [
    "x = sp.symbols('x')\n",
    "y = sp.symbols('y')\n",
    "z = sp.symbols('z')\n",
    "\n",
    "equations = [\n",
    "    lambda x, y, z: x + y + z - 1,\n",
    "    lambda x, y, z: x + 2*y + z - 2,\n",
    "    lambda x, y, z: x + 3*y + z - 3,\n",
    "    lambda x, y, z: x + 4*y + z - 4,\n",
    "    lambda x, y, z: x + 5*y + z - 4,\n",
    "]\n",
    "\n",
    "def phi(x, y, z):\n",
    "    return sum(equation(x, y, z) ** 2 for equation in equations)\n",
    "\n",
    "equations = [\n",
    "    sp.Eq(sp.diff(phi(x, y, z), x), 0),\n",
    "    sp.Eq(sp.diff(phi(x, y, z), y), 0),\n",
    "    sp.Eq(sp.diff(phi(x, y, z), z), 0)\n",
    "]\n",
    "\n",
    "(solutions := sp.solve(equations))"
   ]
  }
 ],
 "metadata": {
  "kernelspec": {
   "display_name": "Python 3",
   "language": "python",
   "name": "python3"
  },
  "language_info": {
   "codemirror_mode": {
    "name": "ipython",
    "version": 3
   },
   "file_extension": ".py",
   "mimetype": "text/x-python",
   "name": "python",
   "nbconvert_exporter": "python",
   "pygments_lexer": "ipython3",
   "version": "3.12.3"
  }
 },
 "nbformat": 4,
 "nbformat_minor": 2
}
