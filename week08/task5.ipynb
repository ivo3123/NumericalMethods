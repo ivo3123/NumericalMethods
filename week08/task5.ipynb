{
 "cells": [
  {
   "cell_type": "markdown",
   "metadata": {},
   "source": [
    "Solve the sistem:\n",
    "\n",
    "$$\n",
    "\\left|\n",
    "\\begin{aligned}\n",
    "x + y + z &= 1\\\\\n",
    "x + 2y + z&=2\\\\\n",
    "x + 3y + z &= 3\\\\\n",
    "x - 4y + z &= 4\\\\\n",
    "x + 5y + z &= 4\n",
    "\\end{aligned}\n",
    "\\right.\n",
    "$$"
   ]
  }
 ],
 "metadata": {
  "language_info": {
   "name": "python"
  }
 },
 "nbformat": 4,
 "nbformat_minor": 2
}
