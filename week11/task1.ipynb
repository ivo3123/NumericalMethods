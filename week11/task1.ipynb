{
 "cells": [
  {
   "cell_type": "markdown",
   "metadata": {},
   "source": [
    "Calculate approximately the value of:\n",
    "\n",
    "$ I = \\int_{0.5}^{1.5} x^3 \\,dx $\n",
    "\n",
    "Use the following formulas:\n",
    "* rectangles\n",
    "* trapezoids\n",
    "* Simpson\n",
    "\n",
    "Evaluate the error.\n",
    "\n",
    "Solvе analytically and compare the approximation with the exact value."
   ]
  },
  {
   "cell_type": "code",
   "execution_count": 1,
   "metadata": {
    "metadata": {}
   },
   "outputs": [],
   "source": [
    "import numpy as np"
   ]
  }
 ],
 "metadata": {
  "kernelspec": {
   "display_name": "Python 3",
   "language": "python",
   "name": "python3"
  },
  "language_info": {
   "codemirror_mode": {
    "name": "ipython",
    "version": 3
   },
   "file_extension": ".py",
   "mimetype": "text/x-python",
   "name": "python",
   "nbconvert_exporter": "python",
   "pygments_lexer": "ipython3",
   "version": "3.12.3"
  }
 },
 "nbformat": 4,
 "nbformat_minor": 2
}
