{
 "cells": [
  {
   "cell_type": "markdown",
   "metadata": {},
   "source": [
    "Calculate approximately the value of:\n",
    "\n",
    "$ I = \\int_{0.5}^{1.5} x^3 \\,dx $\n",
    "\n",
    "Use the following formulas:\n",
    "* rectangles\n",
    "* trapezoids\n",
    "* Simpson\n",
    "\n",
    "Evaluate the error.\n",
    "\n",
    "Solvе analytically and compare the approximation with the exact value."
   ]
  },
  {
   "cell_type": "markdown",
   "metadata": {},
   "source": [
    "Let's solve the integral analytically."
   ]
  },
  {
   "cell_type": "markdown",
   "metadata": {},
   "source": [
    "$\n",
    "I = \\int_{0.5}^{1.5} x^3 \\,dx \\, =\n",
    "\\left.\\dfrac{x^4}{4}\\right|_{0.5}^{1.5} =\n",
    "\\dfrac{1}{4} (\\dfrac{3^4}{2^4} - \\dfrac{1}{2^4}) =\n",
    "\\dfrac{1}{4} \\dfrac{80}{16} =\n",
    "\\dfrac{20}{16} =\n",
    "\\dfrac{5}{4} = 1.25\n",
    "$"
   ]
  },
  {
   "cell_type": "code",
   "execution_count": 1,
   "metadata": {
    "metadata": {}
   },
   "outputs": [],
   "source": [
    "import sys\n",
    "sys.path.append('../util')\n",
    "\n",
    "from interpolation_integration import *"
   ]
  },
  {
   "cell_type": "code",
   "execution_count": 2,
   "metadata": {
    "metadata": {}
   },
   "outputs": [],
   "source": [
    "f = lambda x: x ** 3"
   ]
  },
  {
   "cell_type": "code",
   "execution_count": 3,
   "metadata": {
    "metadata": {}
   },
   "outputs": [
    {
     "data": {
      "text/plain": [
       "1.0"
      ]
     },
     "execution_count": 3,
     "metadata": {},
     "output_type": "execute_result"
    }
   ],
   "source": [
    "composite_rectangles_formula(f, left=0.5, right=1.5, subintervals=1)"
   ]
  },
  {
   "cell_type": "code",
   "execution_count": 4,
   "metadata": {
    "metadata": {}
   },
   "outputs": [
    {
     "data": {
      "text/plain": [
       "1.75"
      ]
     },
     "execution_count": 4,
     "metadata": {},
     "output_type": "execute_result"
    }
   ],
   "source": [
    "composite_trapezoids_formula(f, left=0.5, right=1.5, subintervals=1)"
   ]
  },
  {
   "cell_type": "code",
   "execution_count": 5,
   "metadata": {
    "metadata": {}
   },
   "outputs": [
    {
     "data": {
      "text/plain": [
       "1.25"
      ]
     },
     "execution_count": 5,
     "metadata": {},
     "output_type": "execute_result"
    }
   ],
   "source": [
    "composite_simpson_formula(f, left=0.5, right=1.5, subintervals=1)"
   ]
  },
  {
   "cell_type": "markdown",
   "metadata": {},
   "source": [
    "The more the subintervals, the less the error"
   ]
  },
  {
   "cell_type": "code",
   "execution_count": 6,
   "metadata": {
    "metadata": {}
   },
   "outputs": [
    {
     "name": "stdout",
     "output_type": "stream",
     "text": [
      "1.2499997500000002\n",
      "1.2500005\n",
      "1.2500000000000007\n"
     ]
    }
   ],
   "source": [
    "print(composite_rectangles_formula(f, left=0.5, right=1.5, subintervals=1000))\n",
    "print(composite_trapezoids_formula(f, left=0.5, right=1.5, subintervals=1000))\n",
    "print(composite_simpson_formula(f, left=0.5, right=1.5, subintervals=1000))"
   ]
  },
  {
   "cell_type": "markdown",
   "metadata": {},
   "source": [
    "# Error evaluation"
   ]
  },
  {
   "cell_type": "markdown",
   "metadata": {},
   "source": [
    "#### Rectangles\n",
    "\n",
    "$ R(f) = \\dfrac{f''(\\zeta)}{24} (b - a)^3, \\,\\, \\zeta \\in (a; b) $\n",
    "\n",
    "$ R(f) \\le M(f) := \\dfrac{\\displaystyle \\max_{x \\in [a; b]} |f''(x)|}{24} (b - a)^3 $\n",
    "\n",
    "$ M(f) = \\dfrac{\\displaystyle \\max_{x \\in [0.5; 1.5]} |f''(x)|}{24} (1.5 - 0.5)^3 $\n",
    "\n",
    "$ M(f) = \\dfrac{\\displaystyle \\max_{x \\in [0.5; 1.5]} |6x|}{24} 1^3 $\n",
    "\n",
    "$ M(f) = \\dfrac{6 \\frac{3}{2}}{24} =$\n",
    "$ \\dfrac{9}{24} =$\n",
    "$ \\dfrac{3}{8} = 0.375$\n",
    "\n",
    "$ R_{rectangles}(f) \\le 0.375 $"
   ]
  },
  {
   "cell_type": "markdown",
   "metadata": {},
   "source": [
    "---"
   ]
  },
  {
   "cell_type": "markdown",
   "metadata": {},
   "source": [
    "#### Trapezoids\n",
    "\n",
    "$ R(f) = -\\dfrac{f''(\\zeta)}{12} (b - a)^3, \\,\\, \\zeta \\in (a; b) $\n",
    "\n",
    "$ R(f) \\le |M(f)| $\n",
    "\n",
    "$ M(f) = -\\dfrac{\\displaystyle \\max_{x \\in [a; b]} |f''(x)|}{12} (b - a)^3 $\n",
    "\n",
    "$ M(f) = -\\dfrac{\\displaystyle \\max_{x \\in [0.5; 1.5]} |f''(x)|}{12} (1.5 - 0.5)^3 $\n",
    "\n",
    "$ M(f) = -\\dfrac{\\displaystyle \\max_{x \\in [0.5; 1.5]} |6x|}{12} 1^3 $\n",
    "\n",
    "$ M(f) = -\\dfrac{6 \\frac{3}{2}}{12} =$\n",
    "$ -\\dfrac{9}{12} =$\n",
    "$ -\\dfrac{3}{4} = -0.75$\n",
    "\n",
    "$ R_{trapezoids}(f) \\le 0.75 $"
   ]
  },
  {
   "cell_type": "markdown",
   "metadata": {},
   "source": [
    "---"
   ]
  },
  {
   "cell_type": "markdown",
   "metadata": {},
   "source": [
    "#### Simpson\n",
    "\n",
    "$ R(f) = \\dfrac{f''''(\\zeta)}{2880} (b - a)^5, \\,\\, \\zeta \\in (a; b) $\n",
    "\n",
    "$ R(f) = \\dfrac{0}{2880} (b - a)^5 $\n",
    "\n",
    "$ R_{Simpson}(f) = 0 $"
   ]
  }
 ],
 "metadata": {
  "kernelspec": {
   "display_name": "Python 3",
   "language": "python",
   "name": "python3"
  },
  "language_info": {
   "codemirror_mode": {
    "name": "ipython",
    "version": 3
   },
   "file_extension": ".py",
   "mimetype": "text/x-python",
   "name": "python",
   "nbconvert_exporter": "python",
   "pygments_lexer": "ipython3",
   "version": "3.12.3"
  }
 },
 "nbformat": 4,
 "nbformat_minor": 2
}
