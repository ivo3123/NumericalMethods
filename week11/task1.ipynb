{
 "cells": [
  {
   "cell_type": "markdown",
   "metadata": {},
   "source": [
    "Calculate approximately the value of:\n",
    "\n",
    "$ I = \\int_{0.5}^{1.5} x^3 \\,dx $\n",
    "\n",
    "Use the following formulas:\n",
    "* rectangles\n",
    "* trapezoids\n",
    "* Simpson\n",
    "\n",
    "Evaluate the error.\n",
    "\n",
    "Solvе analytically and compare the approximation with the exact value."
   ]
  },
  {
   "cell_type": "code",
   "execution_count": null,
   "metadata": {},
   "outputs": [],
   "source": []
  }
 ],
 "metadata": {
  "language_info": {
   "name": "python"
  }
 },
 "nbformat": 4,
 "nbformat_minor": 2
}
