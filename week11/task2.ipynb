{
 "cells": [
  {
   "cell_type": "markdown",
   "metadata": {},
   "source": [
    "It is well known that the integral\n",
    "\n",
    "$ \\int_{7}^{9} \\dfrac{\\sin x}{\\ln x} \\,dx $\n",
    "\n",
    "cannot be solve analytically.\n",
    "\n",
    "Solve it approximately.\n",
    "\n",
    "Check the approximation with the result from *scipy.integrate.quad*."
   ]
  },
  {
   "cell_type": "code",
   "execution_count": 3,
   "metadata": {
    "metadata": {}
   },
   "outputs": [],
   "source": [
    "import numpy as np\n",
    "from scipy.integrate import quad"
   ]
  },
  {
   "cell_type": "code",
   "execution_count": 8,
   "metadata": {
    "metadata": {}
   },
   "outputs": [],
   "source": [
    "import sys\n",
    "sys.path.append('../util')\n",
    "\n",
    "from interpolation_integration import *"
   ]
  },
  {
   "cell_type": "code",
   "execution_count": 1,
   "metadata": {
    "metadata": {}
   },
   "outputs": [],
   "source": [
    "f = lambda x: np.sin(x) / np.log(x)"
   ]
  },
  {
   "cell_type": "code",
   "execution_count": 5,
   "metadata": {
    "metadata": {}
   },
   "outputs": [
    {
     "data": {
      "text/plain": [
       "(0.804964022751974, 8.936895920541299e-15)"
      ]
     },
     "execution_count": 5,
     "metadata": {},
     "output_type": "execute_result"
    }
   ],
   "source": [
    "result, error = quad(f, 7, 9)\n",
    "result, error"
   ]
  },
  {
   "cell_type": "code",
   "execution_count": 10,
   "metadata": {
    "metadata": {}
   },
   "outputs": [
    {
     "name": "stdout",
     "output_type": "stream",
     "text": [
      "Rectangles with 1 subinterval:   0.9515614907107687\n",
      "Rectangles with 100 subinterval: 0.8049771362397555\n"
     ]
    }
   ],
   "source": [
    "print('Rectangles with 1 subinterval:  ', composite_rectangles_formula(f, left=7, right=9, subintervals=1))\n",
    "print('Rectangles with 100 subinterval:', composite_rectangles_formula(f, left=7, right=9, subintervals=100))"
   ]
  },
  {
   "cell_type": "code",
   "execution_count": 11,
   "metadata": {
    "metadata": {}
   },
   "outputs": [
    {
     "name": "stdout",
     "output_type": "stream",
     "text": [
      "Trapezoids with 1 subinterval:   0.5251875296832664\n",
      "Trapezoids with 100 subinterval: 0.8049377958965451\n"
     ]
    }
   ],
   "source": [
    "print('Trapezoids with 1 subinterval:  ', composite_trapezoids_formula(f, left=7, right=9, subintervals=1))\n",
    "print('Trapezoids with 100 subinterval:', composite_trapezoids_formula(f, left=7, right=9, subintervals=100))"
   ]
  },
  {
   "cell_type": "code",
   "execution_count": 12,
   "metadata": {
    "metadata": {}
   },
   "outputs": [
    {
     "name": "stdout",
     "output_type": "stream",
     "text": [
      "Simpson with 1 subinterval:   0.8094368370349346\n",
      "Simpson with 100 subinterval: 0.804964022792019\n"
     ]
    }
   ],
   "source": [
    "print('Simpson with 1 subinterval:  ', composite_simpson_formula(f, left=7, right=9, subintervals=1))\n",
    "print('Simpson with 100 subinterval:', composite_simpson_formula(f, left=7, right=9, subintervals=100))"
   ]
  }
 ],
 "metadata": {
  "kernelspec": {
   "display_name": "Python 3",
   "language": "python",
   "name": "python3"
  },
  "language_info": {
   "codemirror_mode": {
    "name": "ipython",
    "version": 3
   },
   "file_extension": ".py",
   "mimetype": "text/x-python",
   "name": "python",
   "nbconvert_exporter": "python",
   "pygments_lexer": "ipython3",
   "version": "3.12.3"
  }
 },
 "nbformat": 4,
 "nbformat_minor": 2
}
