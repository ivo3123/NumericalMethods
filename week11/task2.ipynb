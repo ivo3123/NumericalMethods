{
 "cells": [
  {
   "cell_type": "markdown",
   "metadata": {},
   "source": [
    "It is well known that the integral\n",
    "\n",
    "$ \\int_{7}^{9} \\dfrac{\\sin x}{\\ln x} \\,dx $\n",
    "\n",
    "cannot be solve analytically.\n",
    "\n",
    "Solve it approximately.\n",
    "\n",
    "Check the approximation with the result from *scipy.integrate.quad*."
   ]
  },
  {
   "cell_type": "code",
   "execution_count": 1,
   "metadata": {
    "metadata": {}
   },
   "outputs": [],
   "source": [
    "import numpy as np\n",
    "from scipy.integrate import quad"
   ]
  },
  {
   "cell_type": "code",
   "execution_count": 2,
   "metadata": {
    "metadata": {}
   },
   "outputs": [],
   "source": [
    "# rectangles\n",
    "n = int(np.ceil(100 * np.sqrt(10) / (2 * np.sqrt(3))))\n",
    "\n",
    "# trapezoid\n",
    "n = int(np.ceil(100 * np.sqrt(10) / (np.sqrt(6))))\n",
    "\n",
    "# Simposon\n",
    "n = int(np.ceil(5 * np.sqrt(2) / np.power(3, 1 / 4)))"
   ]
  }
 ],
 "metadata": {
  "kernelspec": {
   "display_name": "Python 3",
   "language": "python",
   "name": "python3"
  },
  "language_info": {
   "codemirror_mode": {
    "name": "ipython",
    "version": 3
   },
   "file_extension": ".py",
   "mimetype": "text/x-python",
   "name": "python",
   "nbconvert_exporter": "python",
   "pygments_lexer": "ipython3",
   "version": "3.12.3"
  }
 },
 "nbformat": 4,
 "nbformat_minor": 2
}
