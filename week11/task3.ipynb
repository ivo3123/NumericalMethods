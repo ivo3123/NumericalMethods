{
 "cells": [
  {
   "cell_type": "markdown",
   "metadata": {},
   "source": [
    "Find $n$ such that the $n^{th}$ composite quadrature formula of rectangles/trapezoids/Simpson approximates the integral:\n",
    "\n",
    "$ \\int_{1}^{2} \\dfrac{1}{x} \\,dx $\n",
    "\n",
    "with error that isn't bigger than $\\epsilon = 0.00001$."
   ]
  },
  {
   "cell_type": "code",
   "execution_count": 59,
   "metadata": {
    "metadata": {}
   },
   "outputs": [],
   "source": [
    "import numpy as np\n",
    "import sympy as sp"
   ]
  },
  {
   "cell_type": "code",
   "execution_count": 60,
   "metadata": {
    "metadata": {}
   },
   "outputs": [],
   "source": [
    "import sys\n",
    "sys.path.append('../util')\n",
    "\n",
    "from interpolation_integration import *"
   ]
  },
  {
   "cell_type": "code",
   "execution_count": 61,
   "metadata": {
    "metadata": {}
   },
   "outputs": [],
   "source": [
    "epsilon = 0.00001\n",
    "\n",
    "f = lambda x: 1 / x"
   ]
  },
  {
   "cell_type": "code",
   "execution_count": 62,
   "metadata": {
    "metadata": {}
   },
   "outputs": [
    {
     "data": {
      "text/latex": [
       "$\\displaystyle 0.693147180559945$"
      ],
      "text/plain": [
       "0.693147180559945"
      ]
     },
     "execution_count": 62,
     "metadata": {},
     "output_type": "execute_result"
    }
   ],
   "source": [
    "x = sp.symbols('x')\n",
    "\n",
    "(exact_value := sp.integrate(f(x), (x, 1, 2)).evalf())"
   ]
  },
  {
   "cell_type": "code",
   "execution_count": 63,
   "metadata": {
    "metadata": {}
   },
   "outputs": [],
   "source": [
    "max = 10_000"
   ]
  },
  {
   "cell_type": "markdown",
   "metadata": {},
   "source": [
    "When dividing into 10000 sunintervals, then certainly the error will be smaller than the given epsilon"
   ]
  },
  {
   "cell_type": "markdown",
   "metadata": {},
   "source": [
    "But we want to find the first $n$ for which the errow will be smaller than the given epsilon."
   ]
  },
  {
   "cell_type": "markdown",
   "metadata": {},
   "source": [
    "> Will use binary search by the answer."
   ]
  },
  {
   "cell_type": "code",
   "execution_count": 64,
   "metadata": {
    "metadata": {}
   },
   "outputs": [],
   "source": [
    "def binary_search(check):\n",
    "    left = 1\n",
    "    right = max\n",
    "\n",
    "    ans = None\n",
    "\n",
    "    while left <= right:\n",
    "        mid = left + (right - left) // 2\n",
    "\n",
    "        if check(mid):\n",
    "            ans = mid\n",
    "            right = mid - 1\n",
    "        else:\n",
    "            left = mid + 1\n",
    "    \n",
    "    assert ans != None, 'binary search logic is wrong'\n",
    "\n",
    "    return ans"
   ]
  },
  {
   "cell_type": "markdown",
   "metadata": {},
   "source": [
    "#### Rectangles"
   ]
  },
  {
   "cell_type": "code",
   "execution_count": 65,
   "metadata": {
    "metadata": {}
   },
   "outputs": [
    {
     "name": "stdout",
     "output_type": "stream",
     "text": [
      "n: 56\n",
      "Approximation: 0.6931372163314509\n",
      "Error: 9.96422849441903e-6\n"
     ]
    }
   ],
   "source": [
    "n = binary_search(lambda curr: abs(composite_rectangles_formula(f, left=1, right=2, subintervals=curr) - exact_value) < epsilon)\n",
    "\n",
    "approximation = composite_rectangles_formula(f, left=1, right=2, subintervals=n)\n",
    "error = exact_value - approximation\n",
    "\n",
    "print(\"n:\", n)\n",
    "print(\"Approximation:\", approximation)\n",
    "print(\"Error:\", error)"
   ]
  },
  {
   "cell_type": "markdown",
   "metadata": {},
   "source": [
    "#### Trapezoids"
   ]
  },
  {
   "cell_type": "code",
   "execution_count": 66,
   "metadata": {
    "metadata": {}
   },
   "outputs": [
    {
     "name": "stdout",
     "output_type": "stream",
     "text": [
      "n: 80\n",
      "Approximation: 0.6931569459942253\n",
      "Error: -9.76543427999577e-6\n"
     ]
    }
   ],
   "source": [
    "n = binary_search(lambda curr: abs(composite_trapezoids_formula(f, left=1, right=2, subintervals=curr) - exact_value) < epsilon)\n",
    "\n",
    "approximation = composite_trapezoids_formula(f, left=1, right=2, subintervals=n)\n",
    "error = exact_value - approximation\n",
    "\n",
    "print(\"n:\", n)\n",
    "print(\"Approximation:\", approximation)\n",
    "print(\"Error:\", error)"
   ]
  },
  {
   "cell_type": "markdown",
   "metadata": {},
   "source": [
    "#### Simpson"
   ]
  },
  {
   "cell_type": "code",
   "execution_count": 67,
   "metadata": {
    "metadata": {}
   },
   "outputs": [
    {
     "name": "stdout",
     "output_type": "stream",
     "text": [
      "n: 4\n",
      "Approximation: 0.6931545306545306\n",
      "Error: -7.35009458530111e-6\n"
     ]
    }
   ],
   "source": [
    "n = binary_search(lambda curr: abs(composite_simpson_formula(f, left=1, right=2, subintervals=curr) - exact_value) < epsilon)\n",
    "\n",
    "approximation = composite_simpson_formula(f, left=1, right=2, subintervals=n)\n",
    "error = exact_value - approximation\n",
    "\n",
    "print(\"n:\", n)\n",
    "print(\"Approximation:\", approximation)\n",
    "print(\"Error:\", error)"
   ]
  }
 ],
 "metadata": {
  "kernelspec": {
   "display_name": "Python 3",
   "language": "python",
   "name": "python3"
  },
  "language_info": {
   "codemirror_mode": {
    "name": "ipython",
    "version": 3
   },
   "file_extension": ".py",
   "mimetype": "text/x-python",
   "name": "python",
   "nbconvert_exporter": "python",
   "pygments_lexer": "ipython3",
   "version": "3.12.3"
  }
 },
 "nbformat": 4,
 "nbformat_minor": 2
}
