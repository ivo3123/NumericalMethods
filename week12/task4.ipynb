{
 "cells": [
  {
   "cell_type": "markdown",
   "metadata": {},
   "source": [
    "Use the Gauss-Legendre formula with 3 nodes and weight function $\\mu (x) = 1$ in the interval $[0,1]$ to calculate the value of the following integral:\n",
    "\n",
    "$ \\int_{0}^{1} \\sin(2x) \\,dx. $"
   ]
  },
  {
   "cell_type": "code",
   "execution_count": 1,
   "metadata": {
    "metadata": {}
   },
   "outputs": [],
   "source": [
    "import numpy as np\n",
    "import sympy as sp"
   ]
  },
  {
   "cell_type": "code",
   "execution_count": 2,
   "metadata": {
    "metadata": {}
   },
   "outputs": [],
   "source": [
    "import sys\n",
    "sys.path.append('../util')\n",
    "\n",
    "from gauss_legendre import calculate_integral"
   ]
  },
  {
   "cell_type": "code",
   "execution_count": 3,
   "metadata": {
    "metadata": {}
   },
   "outputs": [
    {
     "name": "stdout",
     "output_type": "stream",
     "text": [
      "Exact value:   0.708073418273571\n",
      "Approximation: 0.708099326370476\n"
     ]
    }
   ],
   "source": [
    "f = lambda x: sp.sin(2*x)\n",
    "\n",
    "print('Exact value:  ', sp.integrate(f(x := sp.symbols('x')),(x, 0, 1)).evalf())\n",
    "print('Approximation:', calculate_integral(f, left=0, right=1, nodes_count=3))"
   ]
  }
 ],
 "metadata": {
  "kernelspec": {
   "display_name": "Python 3",
   "language": "python",
   "name": "python3"
  },
  "language_info": {
   "codemirror_mode": {
    "name": "ipython",
    "version": 3
   },
   "file_extension": ".py",
   "mimetype": "text/x-python",
   "name": "python",
   "nbconvert_exporter": "python",
   "pygments_lexer": "ipython3",
   "version": "3.12.3"
  }
 },
 "nbformat": 4,
 "nbformat_minor": 2
}
