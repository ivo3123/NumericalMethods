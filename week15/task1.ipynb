{
 "cells": [
  {
   "cell_type": "markdown",
   "metadata": {},
   "source": [
    "Find a root of the equation \n",
    "$\n",
    "e^x−3=0\n",
    "$\n",
    "in the interval $ [0,3] $\n",
    "\n",
    "Let the error of the found root have an error $ \\epsilon < 0.00001 $\n",
    "\n",
    "\n",
    "Use\n",
    "* Newton's method\n",
    "* Bisection method\n",
    "\n",
    "Determine the number of iterations for each of the methods.\n",
    "\n",
    "Compare with the exact solution."
   ]
  },
  {
   "cell_type": "markdown",
   "metadata": {},
   "source": [
    "Let's find the analitic solution.\n",
    "\n",
    "$\n",
    "e^x - 3 = 0\n",
    "$\n",
    "\n",
    "$\n",
    "e^x = 3\n",
    "$\n",
    "\n",
    "By definition of logarithms, we have\n",
    "\n",
    "$\n",
    "x = \\log_{e}3\n",
    "$\n",
    "\n",
    "$\n",
    "x = \\ln 3 \\approx 1.09861228866811\n",
    "$"
   ]
  },
  {
   "cell_type": "markdown",
   "metadata": {},
   "source": [
    "Now let's find the solution using Python and symbols"
   ]
  },
  {
   "cell_type": "code",
   "execution_count": 1,
   "metadata": {
    "metadata": {}
   },
   "outputs": [],
   "source": [
    "import numpy as np\n",
    "import sympy as sp"
   ]
  },
  {
   "cell_type": "code",
   "execution_count": 2,
   "metadata": {
    "metadata": {}
   },
   "outputs": [],
   "source": [
    "import sys\n",
    "sys.path.append('../util')\n",
    "\n",
    "from approximate_root import newton_raphson, bisection"
   ]
  },
  {
   "cell_type": "code",
   "execution_count": 3,
   "metadata": {
    "metadata": {}
   },
   "outputs": [
    {
     "data": {
      "text/plain": [
       "[1.09861228866811]"
      ]
     },
     "execution_count": 3,
     "metadata": {},
     "output_type": "execute_result"
    }
   ],
   "source": [
    "x = sp.symbols('x')\n",
    "equation = np.e ** x - 3\n",
    "(solution := sp.solve(equation))"
   ]
  },
  {
   "cell_type": "code",
   "execution_count": 4,
   "metadata": {
    "metadata": {}
   },
   "outputs": [],
   "source": [
    "start_of_interval = 0\n",
    "end_of_interval = 3\n",
    "\n",
    "epsilon = 0.00001\n",
    "\n",
    "f = lambda x: np.e ** x - 3\n",
    "f_der1 = lambda x: np.e ** x"
   ]
  },
  {
   "cell_type": "markdown",
   "metadata": {},
   "source": [
    "### Newton's method"
   ]
  },
  {
   "cell_type": "code",
   "execution_count": 5,
   "metadata": {
    "metadata": {}
   },
   "outputs": [
    {
     "name": "stdout",
     "output_type": "stream",
     "text": [
      "Approximated root when initial guess is 0: 1.0986122886681922 and iterations: 6\n",
      "Approximated root when initial guess is 3: 1.0986122886724257 and iterations: 6\n"
     ]
    }
   ],
   "source": [
    "approximated_root, iterations = newton_raphson(start_of_interval, f, f_der1, epsilon=epsilon)\n",
    "print(f'Approximated root when initial guess is {start_of_interval}:', approximated_root, 'and iterations:', len(iterations))\n",
    "\n",
    "approximated_root, iterations = newton_raphson(end_of_interval, f, f_der1, epsilon=epsilon)\n",
    "print(f'Approximated root when initial guess is {end_of_interval}:', approximated_root, 'and iterations:', len(iterations))"
   ]
  },
  {
   "cell_type": "markdown",
   "metadata": {},
   "source": [
    "## Bisection method"
   ]
  },
  {
   "cell_type": "code",
   "execution_count": 7,
   "metadata": {
    "metadata": {}
   },
   "outputs": [
    {
     "name": "stdout",
     "output_type": "stream",
     "text": [
      "Approximated root: 1.0986127853393555 and iterations: 19\n"
     ]
    }
   ],
   "source": [
    "approximated_root, iterations = bisection(start_of_interval, end_of_interval, f, epsilon=epsilon)\n",
    "print('Approximated root:', approximated_root, 'and iterations:', len(iterations))"
   ]
  }
 ],
 "metadata": {
  "kernelspec": {
   "display_name": "Python 3",
   "language": "python",
   "name": "python3"
  },
  "language_info": {
   "codemirror_mode": {
    "name": "ipython",
    "version": 3
   },
   "file_extension": ".py",
   "mimetype": "text/x-python",
   "name": "python",
   "nbconvert_exporter": "python",
   "pygments_lexer": "ipython3",
   "version": "3.12.3"
  }
 },
 "nbformat": 4,
 "nbformat_minor": 2
}
